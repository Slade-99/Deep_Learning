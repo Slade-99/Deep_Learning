{
 "cells": [
  {
   "cell_type": "code",
   "execution_count": null,
   "id": "3d2b3141",
   "metadata": {},
   "outputs": [
    {
     "name": "stdout",
     "output_type": "stream",
     "text": [
      "<torch.utils.data.dataloader.DataLoader object at 0x7a6706f3dfa0>\n",
      "<torch.utils.data.dataloader.DataLoader object at 0x7a6706f3f5f0>\n",
      "['pizza', 'steak', 'sushi']\n"
     ]
    }
   ],
   "source": [
    "import data_setup\n",
    "import os\n",
    "from torchvision import transforms\n",
    "\n",
    "BATCH_SIZE = 32\n",
    "\n",
    "train_transforms = transforms.Compose([\n",
    "    \n",
    "    transforms.Resize(size=(64,64)),\n",
    "    transforms.RandomHorizontalFlip(p=0.5),\n",
    "    transforms.ToTensor(),\n",
    "    \n",
    "])\n",
    "\n",
    "\n",
    "test_transforms = transforms.Compose([\n",
    "    \n",
    "    transforms.Resize(size=(64,64)),\n",
    "    transforms.ToTensor(),\n",
    "    \n",
    "])\n",
    "\n",
    "\n",
    "\n",
    "train_dataloader , test_dataloader , class_names = data_setup.create_dataloaders(train_dir=TRAIN_DIR, test_dir=TEST_DIR, train_transforms=train_transforms ,test_transforms=test_transforms,num_worker=CORES,batch_size=32)\n",
    "print(train_dataloader)\n",
    "print(test_dataloader)\n",
    "print(class_names)"
   ]
  },
  {
   "cell_type": "code",
   "execution_count": 7,
   "id": "1687de0f",
   "metadata": {},
   "outputs": [
    {
     "name": "stdout",
     "output_type": "stream",
     "text": [
      "TinyVGG(\n",
      "  (conv_block_1): Sequential(\n",
      "    (0): Conv2d(3, 100, kernel_size=(3, 3), stride=(1, 1))\n",
      "    (1): BatchNorm2d(100, eps=1e-05, momentum=0.1, affine=True, track_running_stats=True)\n",
      "    (2): ReLU()\n",
      "    (3): Conv2d(100, 100, kernel_size=(3, 3), stride=(1, 1))\n",
      "    (4): BatchNorm2d(100, eps=1e-05, momentum=0.1, affine=True, track_running_stats=True)\n",
      "    (5): ReLU()\n",
      "    (6): MaxPool2d(kernel_size=2, stride=2, padding=0, dilation=1, ceil_mode=False)\n",
      "  )\n",
      "  (conv_block_2): Sequential(\n",
      "    (0): Conv2d(100, 100, kernel_size=(3, 3), stride=(1, 1))\n",
      "    (1): BatchNorm2d(100, eps=1e-05, momentum=0.1, affine=True, track_running_stats=True)\n",
      "    (2): ReLU()\n",
      "    (3): Conv2d(100, 100, kernel_size=(3, 3), stride=(1, 1))\n",
      "    (4): BatchNorm2d(100, eps=1e-05, momentum=0.1, affine=True, track_running_stats=True)\n",
      "    (5): ReLU()\n",
      "    (6): MaxPool2d(kernel_size=2, stride=2, padding=0, dilation=1, ceil_mode=False)\n",
      "  )\n",
      "  (classifier): Sequential(\n",
      "    (0): Flatten(start_dim=1, end_dim=-1)\n",
      "    (1): Linear(in_features=16900, out_features=3, bias=True)\n",
      "  )\n",
      ")\n"
     ]
    }
   ],
   "source": [
    "import model_builder\n",
    "import torch\n",
    "\n",
    "\n",
    "device = \"cuda\" if torch.cuda.is_available() else \"cpu\"\n",
    "\n",
    "\n",
    "model_1 = model_builder.TinyVGG(input_shape=3,hidden_units=100,output_shape=len(class_names))\n",
    "print(model_1)"
   ]
  },
  {
   "cell_type": "code",
   "execution_count": 8,
   "id": "1a95e367",
   "metadata": {},
   "outputs": [
    {
     "name": "stderr",
     "output_type": "stream",
     "text": [
      "/home/azwad/anaconda3/envs/Final/lib/python3.12/site-packages/tqdm/auto.py:21: TqdmWarning: IProgress not found. Please update jupyter and ipywidgets. See https://ipywidgets.readthedocs.io/en/stable/user_install.html\n",
      "  from .autonotebook import tqdm as notebook_tqdm\n"
     ]
    },
    {
     "ename": "TypeError",
     "evalue": "train() missing 5 required positional arguments: 'model', 'train_dataloader', 'test_dataloader', 'optimizer', and 'criterion'",
     "output_type": "error",
     "traceback": [
      "\u001b[0;31m---------------------------------------------------------------------------\u001b[0m",
      "\u001b[0;31mTypeError\u001b[0m                                 Traceback (most recent call last)",
      "Cell \u001b[0;32mIn[8], line 3\u001b[0m\n\u001b[1;32m      1\u001b[0m \u001b[38;5;28;01mimport\u001b[39;00m \u001b[38;5;21;01mengine\u001b[39;00m\n\u001b[0;32m----> 3\u001b[0m engine\u001b[38;5;241m.\u001b[39mtrain()\n",
      "\u001b[0;31mTypeError\u001b[0m: train() missing 5 required positional arguments: 'model', 'train_dataloader', 'test_dataloader', 'optimizer', and 'criterion'"
     ]
    }
   ],
   "source": [
    "import engine\n",
    "\n",
    "engine.train()"
   ]
  }
 ],
 "metadata": {
  "kernelspec": {
   "display_name": "Final",
   "language": "python",
   "name": "python3"
  },
  "language_info": {
   "codemirror_mode": {
    "name": "ipython",
    "version": 3
   },
   "file_extension": ".py",
   "mimetype": "text/x-python",
   "name": "python",
   "nbconvert_exporter": "python",
   "pygments_lexer": "ipython3",
   "version": "3.12.7"
  }
 },
 "nbformat": 4,
 "nbformat_minor": 5
}
