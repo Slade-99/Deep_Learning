{
 "cells": [
  {
   "cell_type": "code",
   "execution_count": 2,
   "id": "83583f89",
   "metadata": {},
   "outputs": [
    {
     "name": "stdout",
     "output_type": "stream",
     "text": [
      "[INFO] Created SummaryWrite saving to runs/%/d-05-2025/data_10_percent/EfficientNetB0/5_epochs\n"
     ]
    },
    {
     "data": {
      "text/plain": [
       "<torch.utils.tensorboard.writer.SummaryWriter at 0x7277d8506c60>"
      ]
     },
     "execution_count": 2,
     "metadata": {},
     "output_type": "execute_result"
    }
   ],
   "source": [
    "from torch.utils.tensorboard import SummaryWriter\n",
    "def create_writer(experiment_name: str , model_name:str , extra:str =None):\n",
    "    \n",
    "    from datetime import datetime\n",
    "    import os\n",
    "    \n",
    "    timestamp = datetime.now().strftime(\"%/d-%m-%Y\")\n",
    "    \n",
    "    if extra:\n",
    "        \n",
    "        log_dir = os.path.join(\"runs\",timestamp,experiment_name,model_name,extra)\n",
    "    else:\n",
    "        log_dir = os.path.join(\"runs\",timestamp,experiment_name,model_name)\n",
    "    \n",
    "    print(f\"[INFO] Created SummaryWrite saving to {log_dir}\")\n",
    "    \n",
    "    return SummaryWriter(log_dir=log_dir)\n",
    "\n",
    "\n",
    "example_writer = create_writer(experiment_name=\"data_10_percent\", model_name=\"EfficientNetB0\" , extra=\"5_epochs\")\n",
    "\n",
    "example_writer\n",
    "    \n",
    "    \n",
    "    \n",
    "    "
   ]
  }
 ],
 "metadata": {
  "kernelspec": {
   "display_name": "Final",
   "language": "python",
   "name": "python3"
  },
  "language_info": {
   "codemirror_mode": {
    "name": "ipython",
    "version": 3
   },
   "file_extension": ".py",
   "mimetype": "text/x-python",
   "name": "python",
   "nbconvert_exporter": "python",
   "pygments_lexer": "ipython3",
   "version": "3.12.7"
  }
 },
 "nbformat": 4,
 "nbformat_minor": 5
}
