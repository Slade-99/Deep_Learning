{
 "cells": [
  {
   "cell_type": "code",
   "execution_count": 3,
   "metadata": {},
   "outputs": [
    {
     "name": "stdout",
     "output_type": "stream",
     "text": [
      "2.5.1\n"
     ]
    }
   ],
   "source": [
    "import torch\n",
    "\n",
    "print(torch.__version__)"
   ]
  },
  {
   "cell_type": "code",
   "execution_count": 11,
   "metadata": {},
   "outputs": [
    {
     "name": "stdout",
     "output_type": "stream",
     "text": [
      "tensor([[2],\n",
      "        [2]])\n",
      "torch.Size([2, 1])\n",
      "2\n"
     ]
    }
   ],
   "source": [
    "x = torch.tensor( [[2],[2]] )\n",
    "print(x)\n",
    "print(x.shape)\n",
    "print(x.ndim)"
   ]
  },
  {
   "cell_type": "code",
   "execution_count": 10,
   "metadata": {},
   "outputs": [
    {
     "data": {
      "text/plain": [
       "6"
      ]
     },
     "execution_count": 10,
     "metadata": {},
     "output_type": "execute_result"
    }
   ],
   "source": [
    "x = torch.tensor(6)\n",
    "x.item()"
   ]
  },
  {
   "cell_type": "code",
   "execution_count": 33,
   "metadata": {},
   "outputs": [
    {
     "name": "stdout",
     "output_type": "stream",
     "text": [
      "tensor([[1., 2.],\n",
      "        [3., 4.]], device='cuda:0', dtype=torch.float64, requires_grad=True)\n",
      "cuda:0\n",
      "torch.float64\n"
     ]
    }
   ],
   "source": [
    "x = torch.tensor( [[1,2],[3,4]] , dtype=torch.float64 ,device=\"cuda\",requires_grad=True)\n",
    "\n",
    "print(x)\n",
    "print(x.device)\n",
    "print(x.dtype)"
   ]
  },
  {
   "cell_type": "code",
   "execution_count": null,
   "metadata": {},
   "outputs": [],
   "source": [
    "### Random tensors\n",
    "\n",
    "new = torch.rand(3,4)\n",
    "new = torch.randn(3,4)\n",
    "new = torch.zeros(3,4,2)\n",
    "new = torch.ones(3,4,2)\n",
    "print(new)"
   ]
  },
  {
   "cell_type": "code",
   "execution_count": 28,
   "metadata": {},
   "outputs": [
    {
     "name": "stdout",
     "output_type": "stream",
     "text": [
      "tensor([0, 1, 2, 3, 4, 5, 6, 7, 8, 9])\n"
     ]
    }
   ],
   "source": [
    "x = torch.zeros_like(new)\n",
    "x = torch.arange(0,10)\n",
    "print(x)"
   ]
  },
  {
   "cell_type": "code",
   "execution_count": 43,
   "metadata": {},
   "outputs": [
    {
     "name": "stdout",
     "output_type": "stream",
     "text": [
      "tensor(1)\n"
     ]
    }
   ],
   "source": [
    "### Operations\n",
    "\n",
    "new = torch.tensor( [[1,2],[3,4]])\n",
    "#print(new+10)\n",
    "new2 = torch.tensor( [[5,6],[7,8]])\n",
    "#print(new*new2)  ## element-wise multiplication\n",
    "#print(torch.matmul(new,new2))\n",
    "\n",
    "#print(torch.mean(new.type(torch.float32)))  ## Mean of all the elements\n",
    "#print(new[0].max())\n",
    "print(new[0].argmax())"
   ]
  },
  {
   "cell_type": "markdown",
   "metadata": {},
   "source": [
    "Reshaping , Stacking , Squeezing and Unsqueezing tensors\n",
    "\n",
    "Reshaping changes the tensor to a defined shape.\n",
    "\n",
    "View gives the tensor a certain shape but keeps same memory as original tensor.\n",
    "\n",
    "Stacking combines multiple tensors.\n",
    "\n",
    "Squeeze remove all 1 dimension from a tensor.\n",
    "\n",
    "Unsqueeze adds  1 dimension to a tensor.\n",
    "\n",
    "Premute gives a veiw of the tensor with dimensions swapped in a certain way."
   ]
  },
  {
   "cell_type": "code",
   "execution_count": null,
   "metadata": {},
   "outputs": [
    {
     "name": "stdout",
     "output_type": "stream",
     "text": [
      "torch.Size([6])\n",
      "tensor([[ 0,  1, 23,  5,  6, 87]])\n"
     ]
    }
   ],
   "source": [
    "\n",
    "x = torch.tensor([0,1,23,4,6,87])\n",
    "print(x.shape)\n",
    "x = x.reshape(1,6)\n",
    "\n",
    "z = x.view(6,1)  \n",
    "z[3][0] = 5   ## Changing z changes x because they share same memory as we used view\n",
    "print(x)\n",
    "\n"
   ]
  },
  {
   "cell_type": "code",
   "execution_count": 24,
   "metadata": {},
   "outputs": [
    {
     "name": "stdout",
     "output_type": "stream",
     "text": [
      "tensor([[[1, 3],\n",
      "         [2, 4],\n",
      "         [4, 5],\n",
      "         [5, 6]]])\n"
     ]
    }
   ],
   "source": [
    "x = torch.tensor([[1,2,4,5]])\n",
    "y = torch.tensor([[3,4,5,6]])\n",
    "z = torch.tensor([6,7,8,9])\n",
    "stacked = torch.stack([x,y],dim=-1)\n",
    "\n",
    "print(stacked)"
   ]
  },
  {
   "cell_type": "code",
   "execution_count": null,
   "metadata": {},
   "outputs": [
    {
     "name": "stdout",
     "output_type": "stream",
     "text": [
      "torch.Size([1, 2])\n",
      "torch.Size([2])\n"
     ]
    }
   ],
   "source": [
    "x  = torch.tensor([[1,2]])\n",
    "print(x.shape) \n",
    "x = x.squeeze()  ## Cutting off the extra unsed dimension\n",
    "print(x.shape)"
   ]
  },
  {
   "cell_type": "code",
   "execution_count": null,
   "metadata": {},
   "outputs": [
    {
     "name": "stdout",
     "output_type": "stream",
     "text": [
      "torch.Size([2, 2])\n",
      "tensor([[[1],\n",
      "         [2]],\n",
      "\n",
      "        [[3],\n",
      "         [4]]])\n"
     ]
    }
   ],
   "source": [
    "x = torch.tensor([[1,2],[3,4]])\n",
    "print(x.shape)\n",
    "x = x.unsqueeze(dim=2) ## Adding a new valid positioned dimension\n",
    "print(x)"
   ]
  },
  {
   "cell_type": "code",
   "execution_count": 47,
   "metadata": {},
   "outputs": [
    {
     "name": "stdout",
     "output_type": "stream",
     "text": [
      "[1 2 3 4 5 6 7]\n",
      "tensor([1, 2, 3, 4, 5, 6, 7])\n",
      "[1 2 3 4 5 6 7]\n"
     ]
    }
   ],
   "source": [
    "#### Numpy to Pytorch conversion\n",
    "import numpy as np\n",
    "\n",
    "array = np.arange(1,8)\n",
    "print(array)\n",
    "pytorch_tensor = torch.from_numpy(array)\n",
    "print(pytorch_tensor)\n",
    "numpy_array = pytorch_tensor.numpy()\n",
    "print(numpy_array)"
   ]
  },
  {
   "cell_type": "markdown",
   "metadata": {},
   "source": [
    "WE USE RANDOM SEED TO REPRODUCE THE SAME TENSORS"
   ]
  },
  {
   "cell_type": "code",
   "execution_count": 60,
   "metadata": {},
   "outputs": [
    {
     "name": "stdout",
     "output_type": "stream",
     "text": [
      "tensor([[ 0.4625, -0.1692]])\n"
     ]
    }
   ],
   "source": [
    "RANDOM_SEED = 50\n",
    "torch.manual_seed(RANDOM_SEED)  ## Try commenting out this line\n",
    "print(torch.randn(1,2))"
   ]
  }
 ],
 "metadata": {
  "kernelspec": {
   "display_name": "Final",
   "language": "python",
   "name": "python3"
  },
  "language_info": {
   "codemirror_mode": {
    "name": "ipython",
    "version": 3
   },
   "file_extension": ".py",
   "mimetype": "text/x-python",
   "name": "python",
   "nbconvert_exporter": "python",
   "pygments_lexer": "ipython3",
   "version": "3.12.7"
  }
 },
 "nbformat": 4,
 "nbformat_minor": 2
}
