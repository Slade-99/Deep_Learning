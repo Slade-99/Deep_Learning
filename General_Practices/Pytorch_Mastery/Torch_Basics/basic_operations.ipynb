{
 "cells": [
  {
   "cell_type": "code",
   "execution_count": 2,
   "metadata": {},
   "outputs": [
    {
     "name": "stdout",
     "output_type": "stream",
     "text": [
      "2.5.1\n"
     ]
    }
   ],
   "source": [
    "import torch\n",
    "\n",
    "print(torch.__version__)"
   ]
  },
  {
   "cell_type": "code",
   "execution_count": 11,
   "metadata": {},
   "outputs": [
    {
     "name": "stdout",
     "output_type": "stream",
     "text": [
      "torch.Size([2, 3])\n",
      "1\n"
     ]
    }
   ],
   "source": [
    "x = torch.tensor( [[1,2,3], \n",
    "                   [1,2,3] ])\n",
    "\n",
    "print(x.shape)\n",
    "\n",
    "print(x[0][0].item())"
   ]
  },
  {
   "cell_type": "code",
   "execution_count": 15,
   "metadata": {},
   "outputs": [
    {
     "name": "stdout",
     "output_type": "stream",
     "text": [
      "torch.Size([6])\n",
      "tensor([[ 0,  1, 23,  4,  6, 87]])\n",
      "tensor([[[ 0]],\n",
      "\n",
      "        [[ 1]],\n",
      "\n",
      "        [[23]],\n",
      "\n",
      "        [[ 4]],\n",
      "\n",
      "        [[ 6]],\n",
      "\n",
      "        [[87]]])\n"
     ]
    }
   ],
   "source": [
    "x = torch.tensor([0,1,23,4,6,87])\n",
    "print(x.shape)\n",
    "x = x.reshape(1,6)\n",
    "print(x)\n",
    "x  = x.reshape(6,1,1)\n",
    "print(x)"
   ]
  },
  {
   "cell_type": "code",
   "execution_count": 17,
   "metadata": {},
   "outputs": [
    {
     "name": "stdout",
     "output_type": "stream",
     "text": [
      "torch.Size([2, 2])\n",
      "torch.Size([1, 2, 2])\n"
     ]
    }
   ],
   "source": [
    "x = torch.tensor([[1,2],[3,4]])\n",
    "print(x.shape)\n",
    "x = x.unsqueeze(dim=0) ## Adding a new valid positioned dimension\n",
    "print(x.shape)"
   ]
  },
  {
   "cell_type": "code",
   "execution_count": null,
   "metadata": {},
   "outputs": [],
   "source": []
  }
 ],
 "metadata": {
  "kernelspec": {
   "display_name": "Final",
   "language": "python",
   "name": "python3"
  },
  "language_info": {
   "codemirror_mode": {
    "name": "ipython",
    "version": 3
   },
   "file_extension": ".py",
   "mimetype": "text/x-python",
   "name": "python",
   "nbconvert_exporter": "python",
   "pygments_lexer": "ipython3",
   "version": "3.12.2"
  }
 },
 "nbformat": 4,
 "nbformat_minor": 2
}
